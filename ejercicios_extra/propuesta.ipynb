{
 "cells": [
  {
   "cell_type": "markdown",
   "metadata": {},
   "source": [
    "Dada la lista `[4,7, -3]`, calcula su máximo, mínimo y suma."
   ]
  },
  {
   "cell_type": "code",
   "execution_count": null,
   "metadata": {},
   "outputs": [],
   "source": [
    "lista = [4,7,-3]\n",
    "print(min(lista))\n",
    "print(max(lista))\n",
    "print(sum(lista))\n"
   ]
  },
  {
   "cell_type": "markdown",
   "metadata": {},
   "source": [
    "Pon la frase \"Born to be wild\" en mayúsculas, luego en minúsculas, divídela por espacios y, por último, sustituye \"wild\" por \"Geek\"."
   ]
  },
  {
   "cell_type": "code",
   "execution_count": null,
   "metadata": {},
   "outputs": [],
   "source": [
    "\"Born to be wild\".lower()\n",
    "\"Born to be wild\".upper()\n",
    "\"Born to be wild\".split()\n",
    "\"Born to be wild\".replace(\"wild\", \"Geek\")"
   ]
  },
  {
   "cell_type": "markdown",
   "metadata": {},
   "source": [
    "Crea un programa en el que se recojan dos entradas, y la salida del programa sea un booleano que indique al usuario si esas entradas son iguales o no."
   ]
  },
  {
   "cell_type": "code",
   "execution_count": null,
   "metadata": {},
   "outputs": [],
   "source": [
    "input1 = input(\"Ingresa un número\")\n",
    "input2 = input(\"Ingresa un número\")\n",
    "print(input1 == input2)\n"
   ]
  },
  {
   "cell_type": "markdown",
   "metadata": {},
   "source": [
    "Imprime los números entre 0 y 70 que son múltiplos de 3 y 5."
   ]
  },
  {
   "cell_type": "code",
   "execution_count": null,
   "metadata": {},
   "outputs": [],
   "source": [
    "for i in range(0,-22,-7):\n",
    "    print(i)"
   ]
  },
  {
   "cell_type": "code",
   "execution_count": null,
   "metadata": {},
   "outputs": [],
   "source": [
    "for i in range(-7,-22, -1):\n",
    "    print(i)"
   ]
  },
  {
   "cell_type": "markdown",
   "metadata": {},
   "source": [
    "Obtenga la primera y la segunda mejor puntuación de la lista.\n",
    "La lista contiene duplicados."
   ]
  },
  {
   "cell_type": "code",
   "execution_count": null,
   "metadata": {},
   "outputs": [],
   "source": [
    "scores = [86,86,85,85,85,83,23,45,84,1,2,0]\n",
    "set_scores = set(scores)\n",
    "print(set_scores)\n",
    "#l_scores = list(set_scores)\n",
    "l_scores = sorted(set_scores)\n",
    "print(l_scores[-1], l_scores[-2])\n",
    "print(l_scores[-2:])"
   ]
  },
  {
   "cell_type": "code",
   "execution_count": null,
   "metadata": {},
   "outputs": [],
   "source": [
    "print(set_scores)\n",
    "sorted(set_scores)"
   ]
  },
  {
   "cell_type": "code",
   "execution_count": null,
   "metadata": {},
   "outputs": [],
   "source": [
    "scores = [86,86,85,85,85,83,23,45,84,1,2,0]\n",
    "set_scores = set(scores)\n",
    "print(set_scores)\n",
    "l_scores = list(set_scores)\n",
    "max_scores = max(l_scores)\n",
    "l_scores.remove(max_scores)\n",
    "s_max_scores = max(l_scores)\n",
    "print(max_scores)\n",
    "print(s_max_scores)"
   ]
  },
  {
   "cell_type": "code",
   "execution_count": null,
   "metadata": {},
   "outputs": [],
   "source": []
  },
  {
   "cell_type": "markdown",
   "metadata": {},
   "source": []
  },
  {
   "cell_type": "code",
   "execution_count": null,
   "metadata": {},
   "outputs": [],
   "source": []
  },
  {
   "cell_type": "markdown",
   "metadata": {},
   "source": [
    " Haz una lista de diez alienígenas, cada uno de los cuales es de un color: 'rojo', 'verde' o 'azul'.\n",
    "    - Puedes acortarlo a 'r', 'g' y 'b' si quieres, pero si eliges esta opción tienes que incluir un comentario explicando qué significan r, g y b.\n",
    "    - Los alienígenas rojos valen 5 puntos, los verdes valen 10 puntos y los azules valen 20 puntos.\n",
    "    - Utilice un bucle for para determinar el número de puntos que ganaría un jugador por destruir todos los alienígenas de su lista."
   ]
  },
  {
   "cell_type": "code",
   "execution_count": null,
   "metadata": {},
   "outputs": [],
   "source": [
    "lista = [\"rojo\", \"verde\", \"rojo\", \"azul\", \"azul\", \"verde\", \"verde\", \"azul\", \"rojo\", \"azul\"]*10_000_000\n",
    "\n",
    "puntos = 0\n",
    "for alien in lista:\n",
    "    if alien == \"rojo\":\n",
    "        puntos = puntos + 5 # puntos += 5\n",
    "    elif alien == \"verde\":\n",
    "        puntos = puntos + 10\n",
    "    else:\n",
    "        puntos = puntos + 20\n",
    "\n",
    "\n",
    "\n",
    "\n"
   ]
  },
  {
   "cell_type": "code",
   "execution_count": null,
   "metadata": {},
   "outputs": [],
   "source": [
    "lista = [\"rojo\", \"verde\", \"rojo\", \"azul\", \"azul\", \"verde\", \"verde\", \"azul\", \"rojo\", \"azul\"]*10_000_000\n",
    "\n",
    "puntos = 0\n",
    "\n",
    "rojos = 5*lista.count(\"rojo\")\n",
    "verde = 10*lista.count(\"verde\")\n",
    "azul = 20*lista.count(\"azul\")\n",
    "puntos = rojos + verde + azul\n",
    "print(puntos)"
   ]
  },
  {
   "cell_type": "markdown",
   "metadata": {},
   "source": [
    "Crea un programa que calcule la media.\n",
    "\n",
    "El programa pedirá al usuario que especifique cuántos números quiere introducir, y mostrará un aviso para incluir número a número a una lista, y luego calculará la media de esa lista."
   ]
  },
  {
   "cell_type": "code",
   "execution_count": null,
   "metadata": {},
   "outputs": [],
   "source": [
    "aviso1 = int(input(\"Introduzca de cuántos números quieres hacer la media\"))\n",
    "\n",
    "lista_num = []\n",
    "for i in range(aviso1):\n",
    "    msg = \"Introduzca número \" + str(i+1)\n",
    "    num = float(input(msg))\n",
    "    lista_num.append(num)\n",
    "\n",
    "print(sum(lista_num)/aviso1)\n",
    "\n",
    "print(sum(lista_num)/len(lista_num))\n"
   ]
  },
  {
   "cell_type": "code",
   "execution_count": null,
   "metadata": {},
   "outputs": [],
   "source": [
    "\n",
    "print(sum(lista_num)/aviso1)\n",
    "\n",
    "print(sum(lista_num)/len(lista_num))"
   ]
  },
  {
   "cell_type": "code",
   "execution_count": null,
   "metadata": {},
   "outputs": [],
   "source": [
    "len(5)"
   ]
  },
  {
   "cell_type": "markdown",
   "metadata": {},
   "source": [
    "Haga lo que se describe a continuación:\n",
    "\n",
    "- Crea una variable llamada fuerza, y fija su valor inicial en 5.\n",
    "\n",
    "- Imprime un mensaje informando de la fuerza del jugador.\n",
    "\n",
    "- Establece un bucle while que se ejecute hasta que la fuerza del jugador aumente hasta un valor como 10.\n",
    "\n",
    "- Dentro del bucle while, imprime un mensaje que informe de la fuerza actual del jugador.\n",
    "\n",
    "- Dentro del bucle while, escribe una sentencia que incremente la fuerza del jugador.\n",
    "\n",
    "- Fuera del bucle while, imprime un mensaje informando de que el jugador se ha hecho demasiado fuerte, y que ha pasado a un nuevo nivel del juego.\n",
    "\n",
    "Juega con diferentes niveles de corte para el valor de la fuerza, y juega con diferentes maneras de aumentar el valor de la fuerza dentro del bucle while."
   ]
  },
  {
   "cell_type": "code",
   "execution_count": null,
   "metadata": {},
   "outputs": [],
   "source": [
    "fuerza = 5\n",
    "print(\"La fuerza del jugardor\", fuerza)\n",
    "while fuerza < 10:\n",
    "    fuerza += 1  #fuerza = fuerza + 1 \n",
    "    print(\"Tu fuerza es de\", fuerza)\n",
    "print(\"El jugador alcazó un nuevo nivel. Eres demasiado fuerte\")"
   ]
  },
  {
   "cell_type": "code",
   "execution_count": null,
   "metadata": {},
   "outputs": [],
   "source": [
    "dni = \"0123456789\"\n",
    "\n",
    "if type(dni) != str:\n",
    "    print(\"No es una cadena\")\n",
    "if len(dni) > 9:\n",
    "    print(\"Es demasiado largo\")\n",
    "if len(dni) < 9:\n",
    "    print(\"Es demasiado corto\")\n",
    "if dni[9].isnumeric() == True: ## dni[-1].isalpha() == False\n",
    "    print(\"No termina en letra\")\n"
   ]
  },
  {
   "cell_type": "code",
   "execution_count": null,
   "metadata": {},
   "outputs": [],
   "source": [
    "fuerza = 5\n",
    "print(\"La fuerza del jugardor\", fuerza)\n",
    "while fuerza < 10:\n",
    "    fuerza += 1  #fuerza = fuerza + 1 \n",
    "  "
   ]
  },
  {
   "cell_type": "code",
   "execution_count": null,
   "metadata": {},
   "outputs": [],
   "source": [
    "fuerza = 5\n",
    "print(\"La fuerza del jugardor\", fuerza)\n",
    "while fuerza <= 10:\n",
    "    fuerza += 1  #fuerza = fuerza + 1 \n",
    "    print(\"Tu fuerza es de\", fuerza)"
   ]
  },
  {
   "cell_type": "code",
   "execution_count": null,
   "metadata": {},
   "outputs": [],
   "source": [
    "fuerza = 5\n",
    "print(\"La fuerza del jugardor\", fuerza)\n",
    "while fuerza <= 10:\n",
    "    print(\"Tu fuerza es de\", fuerza)\n",
    "    fuerza += 1  #fuerza = fuerza + 1 "
   ]
  },
  {
   "cell_type": "markdown",
   "metadata": {},
   "source": [
    "\n",
    "Escribe una función que pida un entero e imprima el cuadrado del mismo. Sigue comprobando hasta que la función obtiene un entero.\n",
    "\n"
   ]
  },
  {
   "cell_type": "code",
   "execution_count": null,
   "metadata": {},
   "outputs": [],
   "source": [
    "# Version 1\n",
    "def cuadrado(i):\n",
    "    print(i**2)\n",
    "\n",
    "entero =  3.2\n",
    "while (type(entero) != int):\n",
    "    try:\n",
    "        entero = int(input(\"introduzca un entero\"))\n",
    "        cuadrado(entero)\n",
    "    except:\n",
    "        print(\"No es un número\")\n",
    "        \n",
    "\n"
   ]
  },
  {
   "cell_type": "code",
   "execution_count": null,
   "metadata": {},
   "outputs": [],
   "source": [
    "# Version 2\n",
    "def cuadrado(i):\n",
    "    print(i**2)\n",
    "\n",
    "es_entero =  False\n",
    "while (es_entero == False):\n",
    "    try:\n",
    "\n",
    "        entero = int(input(\"introduzca un entero\"))\n",
    "        es_entero = True\n",
    "        cuadrado(entero)\n",
    "\n",
    "    except:\n",
    "        print(\"No es un número\")\n",
    "        continue\n",
    "    print(entero+1)    \n"
   ]
  },
  {
   "cell_type": "code",
   "execution_count": null,
   "metadata": {},
   "outputs": [],
   "source": [
    "# Version 3\n",
    "def cuadrado(i):\n",
    "    print(i**2)\n",
    "\n",
    "while (True):\n",
    "    try:\n",
    "\n",
    "        entero = int(input(\"introduzca un entero\"))\n",
    "        cuadrado(entero)\n",
    "        break\n",
    "\n",
    "    except:\n",
    "        print(\"No es un número\")\n"
   ]
  },
  {
   "cell_type": "code",
   "execution_count": null,
   "metadata": {},
   "outputs": [],
   "source": [
    "# Version 4. Just for fun. No es adecuada ni es necesario conocer\n",
    "def cuadrado(i):\n",
    "    print(i**2)\n",
    "lista = [1]\n",
    "for i in lista:\n",
    "    try:\n",
    "\n",
    "        entero = int(input(\"introduzca un entero\"))\n",
    "        cuadrado(entero)\n",
    "        break\n",
    "\n",
    "    except:\n",
    "        lista.append(1)\n",
    "        print(\"No es un número\")"
   ]
  },
  {
   "cell_type": "code",
   "execution_count": null,
   "metadata": {},
   "outputs": [],
   "source": [
    "# Version 5. Just for fun. No es adecuada ni es necesario conocer\n",
    "def cuadrado():\n",
    "    try: \n",
    "        entero = int(input(\"introduzca un entero\"))\n",
    "        print(entero**2)\n",
    "    except: \n",
    "        cuadrado()\n",
    "cuadrado()"
   ]
  },
  {
   "cell_type": "markdown",
   "metadata": {},
   "source": [
    "Practice_10_OOP Ejercicio 1"
   ]
  },
  {
   "cell_type": "code",
   "execution_count": null,
   "metadata": {},
   "outputs": [],
   "source": [
    "# Para terminar, todo junto, un ejercicio COMPLEJO:\n",
    "# Escribe un programa que:\n",
    "# Pida al usuario un número entero por pantalla y continua insistiendo hasta que introduce un número entero correcto\n",
    "# Si no introduce un número entero, debes imprimir un mensaje de error y volver a pedir otro número entero al usuario\n",
    "# Si introduce un número distinto de 2, imprimir: \"Tu número favorito es X\", siendo X el número elegido \n",
    "# Si introduce el número 2, escribir \"El 2 también es mi numero favorito\"\n",
    "\n",
    "# Cronométrate y envíame lo que tengas tras 30 minutos intentándolo \n",
    "# Si me lo envías tras 1 hora itentandolo nunca lo sabré, me engañas a mi pero sobre todo te engañas a ti mismo\n",
    "\n",
    "# Tras 30 minutos puedes seguir inténtandolo "
   ]
  },
  {
   "cell_type": "code",
   "execution_count": null,
   "metadata": {},
   "outputs": [],
   "source": [
    "def complejo():\n",
    "    while True:\n",
    "        try:\n",
    "            decision = int(input(\"Introduce un numero entero: \"))\n",
    "            if type(decision) == type(2):\n",
    "                if decision != 2:\n",
    "                    print(f\"Tu numero favorito es {decision}\")\n",
    "                    break\n",
    "                else:\n",
    "                    print(\"El 2 tambien es mi numero favorito\")\n",
    "                    break\n",
    "        except:\n",
    "            print(\"Error, no introdujo un numero entero\")\n",
    "\n",
    "complejo()"
   ]
  },
  {
   "cell_type": "code",
   "execution_count": null,
   "metadata": {},
   "outputs": [],
   "source": [
    "# Un último de sucesiones\n",
    "# Piensa en el ejemplo de Fibonacci\n",
    "#Las sucesiones pueden ser muy flexibles: partiendo de la lista = [5,7], intenta generar la sucesión que usa la media de los dos números previos y suma uno al resultado\n",
    "# Sigue pensando en Fibonacci! "
   ]
  },
  {
   "cell_type": "code",
   "execution_count": null,
   "metadata": {},
   "outputs": [],
   "source": [
    "def fibonacci_media(lista, rango):\n",
    "    primero = lista[0]\n",
    "    segundo = lista[1]\n",
    "    for i in range(rango):\n",
    "        nuevo  = (segundo + primero)/2 + 1 # nuevo = (lista[-2] + lista[-1])/2 +1 y el append, con eso seria otra opcion \n",
    "        lista.append(nuevo)\n",
    "        primero = segundo\n",
    "        segundo = nuevo\n",
    "    return lista\n",
    "\n",
    "\n",
    "print(fibonacci_media([5,7], 100))"
   ]
  },
  {
   "cell_type": "code",
   "execution_count": null,
   "metadata": {},
   "outputs": [],
   "source": [
    "# Crea un programa que pida al usuario números para calcular la raíz cuadrada de los mismos. Captura la excepción de que haya introducido un número negativo \n",
    "# y haz que calcule la raíz cuadrada del valor absoluto en esa situación\n",
    "# El programa continua pidiendo al usuario números y calculando la raíz hasta que el usuario introduzce el número 0, en cuyo caso, termina el programa."
   ]
  },
  {
   "cell_type": "markdown",
   "metadata": {},
   "source": [
    "Escribe un programa en Python que genere una lista cuyos valores sean cuadrados de números entre 1 y 30 (ambos incluidos), y devuelva una lista con los 5 primeros y últimos elementos de la lista."
   ]
  },
  {
   "cell_type": "code",
   "execution_count": null,
   "metadata": {},
   "outputs": [],
   "source": [
    "def cuadrados():\n",
    "    lista_cuadrados = []\n",
    "    lista_iniciales = []\n",
    "    lista_finales = []\n",
    "    contador = 0\n",
    "    for i in range(1,31):\n",
    "        lista_cuadrados.append(i*i)\n",
    "    while contador < 5:\n",
    "        lista_iniciales.append(lista_cuadrados[contador])\n",
    "        lista_finales.append(lista_cuadrados[-contador - 1])\n",
    "        contador += 1\n",
    "    lista_finales.reverse()\n",
    "    lista_final = lista_iniciales + lista_finales\n",
    "    return lista_final\n",
    "\n",
    "cuadrados()\n",
    "\n",
    "\"\"\"otra forma\n",
    "    lista_nums = []\n",
    "    for i in range(1,31)\n",
    "        lista_nums.append(i**2)\n",
    "    lista_5 = lista_nums[0:5] + lista_nums[-5:]\n",
    "\n",
    "    otra: lisa_nums = [x**2 for x in range(1,31)]\n",
    "    lista_5 = lista_nums[0:5] + lista_nums[-5:]\n",
    "\"\"\"\n"
   ]
  },
  {
   "cell_type": "markdown",
   "metadata": {},
   "source": [
    "Escribe un programa que cuente cuantos objetos hay de cada tipo en está lista:\n"
   ]
  },
  {
   "cell_type": "code",
   "execution_count": null,
   "metadata": {},
   "outputs": [],
   "source": [
    "lista = [1, True, 2.3, ['a', 'b'], 'hola', False, False, (2,3,5), 2, 3,5, [2,3,5], \"2,3,5\", \"[2,3,5]\"]\n",
    "\n",
    "def contar(lista):\n",
    "    dicci = {}\n",
    "    for i in lista:\n",
    "        if type(i) in dicci.keys():\n",
    "            dicci[type(i)] += 1\n",
    "        else:\n",
    "            dicci[type(i)] = 1\n",
    "    return dicci\n",
    "\n",
    "contar(lista)"
   ]
  },
  {
   "cell_type": "markdown",
   "metadata": {},
   "source": [
    "### Con lista y con diccionario fruta/color\n",
    "\n",
    "La siguiente lista contiene algunas frutas:\n",
    "    \n",
    "`fruits = ['banana', 'orange', 'mango', 'lemon']`\n",
    "\n",
    "Si una fruta no existe en la lista añade la fruta a la lista e imprime la lista modificada. Si la fruta existe print('Esa fruta ya existe en la lista')"
   ]
  },
  {
   "cell_type": "code",
   "execution_count": null,
   "metadata": {},
   "outputs": [],
   "source": [
    "fruits = [\"banana\", \"orange\", \"mango\", \"lemon\"]\n",
    "fruta = input(\"Dame una fruta\")\n",
    "if fruta in fruits:\n",
    "    print(\"Esa fruta ya existe en la lista\")\n",
    "else:\n",
    "    fruits.append(fruta)"
   ]
  },
  {
   "cell_type": "markdown",
   "metadata": {},
   "source": [
    "De la lista dada:\n",
    "    \n",
    "    a) Crea listas separadas de cadenas y números.\n",
    "\n",
    "    b) Ordena la lista de cadenas en orden ascendente.\n",
    "\n",
    "    c) Ordena la lista de cadenas en orden descendente\n",
    "\n",
    "    d) Ordenar la lista de números de menor a mayor\n",
    "\n",
    "    e) Ordenar la lista de números de mayor a menor"
   ]
  },
  {
   "cell_type": "code",
   "execution_count": null,
   "metadata": {},
   "outputs": [],
   "source": [
    "gadgets = [\"Mobile\", \"Laptop\", 100, \"Camera\", 310.28, \"Speakers\", 27.00, \n",
    "           \"Television\", 1000, \"Laptop Case\", \"Camera Lens\"]\n",
    "\n",
    "lista_cadenas = []\n",
    "lista_numeros = []\n",
    "for i in gadgets:\n",
    "    if type(i)==type(\" \"): \n",
    "        lista_cadenas.append(i)\n",
    "    else:\n",
    "        lista_numeros.append(i)\n",
    "print(lista_numeros, lista_cadenas)\n",
    "\n",
    "lista_cadenas.sort()\n",
    "print(lista_cadenas)\n",
    "lista_cadenas.sort(reverse=True)\n",
    "print(lista_cadenas)\n",
    "\n",
    "lista_numeros.sort()\n",
    "print(lista_numeros)\n",
    "lista_numeros.sort(reverse=True)\n",
    "print(lista_numeros)"
   ]
  },
  {
   "cell_type": "markdown",
   "metadata": {},
   "source": [
    "Una empresa va a abrir un banco, diseñemos la clase usuario\n",
    "\n",
    "Debes incluir lo siguiente:\n",
    "\n",
    "**Un método de retirada**\n",
    "- Resta dinero del saldo\n",
    "- Un parámetro, dinero a retirar\n",
    "- Imprimer un mensaje de error por pantalla si no hay saldo para retirar\n",
    "- Devuelve una cadena con nombre y saldo\n",
    "\n",
    "**Un método add_cash**\n",
    "- Añade dinero al saldo\n",
    "- Un parámetro, dinero a añadir\n",
    "- Devuelve una cadena con nombre y saldo\n",
    "\n",
    "**Un método historial**\n",
    "- LLeva la cuenta de cuatas retiradas ya add_cash se han producido\n",
    "- Registra toda operación realizada por el usuario: tipo de operación (add_cash, retirada) y el saldo antes y después de la operación \n",
    "\n",
    "**Método comisiones**\n",
    "- Resta 10 euros del saldo al cliente\n",
    "\n",
    "\n",
    "**Notas adicionales:**\n",
    "\n",
    "- Todos los usuarios tienen nombre, apellidos y un número de cuenta que siempre será distinto\n",
    "- Ningún número de entrada será negativo\n",
    "\n"
   ]
  },
  {
   "cell_type": "code",
   "execution_count": null,
   "metadata": {},
   "outputs": [],
   "source": [
    "from math import fabs\n",
    "\n",
    "class Usuario:\n",
    "    def __init__(self, nombre, apellidos, numero, saldo):\n",
    "        self.nombre = nombre\n",
    "        self.apellidos = apellidos\n",
    "        self.numero = fabs(numero)\n",
    "        self.saldo = saldo\n",
    "        self.registro = []\n",
    "\n",
    "    def retirada(self, dinero_a_retirar):\n",
    "        if self.saldo < dinero_a_retirar:\n",
    "            print(\"No hay saldo suficiente para retirar\")\n",
    "        else:\n",
    "            self.historial(-dinero_a_retirar) \n",
    "            self.saldo = self.saldo - dinero_a_retirar\n",
    "            print(f\"{self.nombre} |  {self.saldo}\")\n",
    "\n",
    "    def add_cash(self, saldo_añadido):\n",
    "        self.historial(saldo_añadido) \n",
    "        self.saldo += saldo_añadido\n",
    "        print(f\"{self.nombre} |  {self.saldo}\")\n",
    "    \n",
    "    def comisiones(self):\n",
    "        self.historial(-10) \n",
    "        self.saldo -= 10\n",
    "\n",
    "    def historial(self, dinero):\n",
    "        if dinero >= 0:\n",
    "            tipo = \"Add\"\n",
    "        else:\n",
    "            tipo = \"retirada\"\n",
    "        registro = {\n",
    "                \"saldo antes\": self.saldo,\n",
    "                \"saldo despues\":  self.saldo + dinero, \n",
    "                \"tipo de operacion\": tipo\n",
    "        }\n",
    "        self.registro.append(registro)\n"
   ]
  },
  {
   "cell_type": "markdown",
   "metadata": {},
   "source": [
    "Ahora la clase Banco:\n",
    "\n",
    "**Método añadir cliente**\n",
    "Añade un nuevo cliente al banco. (lista, diccionario, tupla?)\n",
    "No pueden existir dos números de cuenta iguales: se sobreescribe dicho cliente\n",
    "\n",
    "**Método eliminar cliente**\n",
    "Se elimina un cliente si existe. \n",
    "Si no existe imprimer mensaje de que no existe dicho cliente\n",
    "\n",
    "**Saldo total del banco**\n",
    "Devuelve la totalidad del saldo sumado para todos los clientes\n",
    "\n",
    "**Metodo fin de mes**\n",
    "Cobra la comisión mensual a los clientes\n",
    "Calcula las comisiones totales cobradas\n",
    "Calcula el saldo total de los clientes del banco tras el pago de comisiones\n"
   ]
  },
  {
   "cell_type": "code",
   "execution_count": null,
   "metadata": {},
   "outputs": [],
   "source": [
    "class Banco:\n",
    "    def __init__(self, nombre):\n",
    "        self.nombre = nombre\n",
    "        self.clientes = []\n",
    "        self.cuentas = []\n",
    "\n",
    "    def añadir_cliente(self, cliente):\n",
    "        if cliente.numero not in self.cuentas:\n",
    "            self.clientes.append(cliente)\n",
    "            self.cuentas.append(cliente.numero)\n",
    "        else:\n",
    "            indice = self.clientes.index(cliente.numero)\n",
    "            self.clientes[indice] = cliente\n",
    "            self.cuentas[indice] = cliente.numero\n",
    "\n",
    "    def eliminar_cliente(self, cliente):\n",
    "        if cliente.numero in self.cuentas:\n",
    "            self.clientes.remove(cliente)\n",
    "            self.cuentas.remove(cliente.numero)\n",
    "        else:\n",
    "            print(\"No existe ese cliente\")\n",
    "\n",
    "    def saldo_total(self):\n",
    "        suma_total = 0\n",
    "        for i in self.clientes:\n",
    "            suma_total += i.saldo\n",
    "        return suma_total\n",
    "    \n",
    "    def comision_mensual(self, comision):\n",
    "        for i in self.clientes:\n",
    "            i.saldo -= comision\n",
    "        self.saldo_total()\n",
    "            \n"
   ]
  },
  {
   "cell_type": "markdown",
   "metadata": {},
   "source": [
    "Dada una lista con 3 números del 1 al 20, escribe un programar que pida al usuario 5 números del 1 al 20 y lleve la cuenta del total de aciertos y fallos y los números introducidos\n",
    "Si se aciertan los 3 números antes de finalizar las 5 rondas el programa debe parar\n",
    "Si no se han acertado los 3 números, al final deben imprimirse los números que no fueron acertados.\n"
   ]
  },
  {
   "cell_type": "code",
   "execution_count": 14,
   "metadata": {},
   "outputs": [
    {
     "name": "stdout",
     "output_type": "stream",
     "text": [
      "Bienvenido al juego de adivinanzas, hay 3 numeros del 1 al 20 que tiene que adivinar, introduzca 5 enteros e intenta adivinarlos todos!\n",
      "Gano, acerto los 3 numeros\n"
     ]
    }
   ],
   "source": [
    "def adivinanzas(numeros_a_adivinar):\n",
    "    print(\"Bienvenido al juego de adivinanzas, hay 3 numeros del 1 al 20 que tiene que adivinar, introduzca 5 enteros e intenta adivinarlos todos!\")\n",
    "    turnos = 5\n",
    "    aciertos = []\n",
    "    while (turnos > 0) or (len(aciertos)) < 3:\n",
    "        try:\n",
    "            decision = int(input(\"¿Introduzca un numero del 1 al 20?\"))\n",
    "            if decision <21 and decision >0:\n",
    "                if decision in numeros_a_adivinar:\n",
    "                    aciertos.append(decision)\n",
    "                turnos -= 1\n",
    "            else:\n",
    "                print(\"Introduzca un numero entero entre 1 y 20\")\n",
    "                continue\n",
    "        except:\n",
    "            print(\"Eso no es un numero entero\")\n",
    "    if len(aciertos) == 3:\n",
    "        print(\"Gano, acerto los 3 numeros\")\n",
    "    else:\n",
    "        for i in numeros_a_adivinar:\n",
    "            if i in aciertos:\n",
    "                numeros_a_adivinar.remove(i)\n",
    "        print(f\"Perdio, le faltaron por adivinar los siguientes numeros: {numeros_a_adivinar}\")\n",
    "\n",
    "\n",
    "adivinanzas([1,3,8])"
   ]
  },
  {
   "cell_type": "markdown",
   "metadata": {},
   "source": [
    "Los ejercicios hechos sin OOP, usar OOP y los de OOP, pasar a funciones"
   ]
  }
 ],
 "metadata": {
  "kernelspec": {
   "display_name": "Python 3",
   "language": "python",
   "name": "python3"
  },
  "language_info": {
   "codemirror_mode": {
    "name": "ipython",
    "version": 3
   },
   "file_extension": ".py",
   "mimetype": "text/x-python",
   "name": "python",
   "nbconvert_exporter": "python",
   "pygments_lexer": "ipython3",
   "version": "3.12.1"
  }
 },
 "nbformat": 4,
 "nbformat_minor": 2
}
