{
 "cells": [
  {
   "cell_type": "markdown",
   "metadata": {},
   "source": [
    "# Listado de ejercicios retadores\n",
    "# Hazlos bajo tu cuenta y riesgo, solo si te aburres con todos los demás y tienes la cabeza amueblada para el ramp up"
   ]
  },
  {
   "cell_type": "markdown",
   "metadata": {},
   "source": [
    "##### Estoy overtime y odio hacer horas extra. Espero que si me pides ayuda me muestres tu trabajo: un intento de código (aunque no funcione), una frase en español o inglés indicando que es lo que quieres hacer, una duda concreta... pero no la celda vacía\n",
    "\n",
    "![imagen](img/overtime.gif)"
   ]
  },
  {
   "cell_type": "code",
   "execution_count": null,
   "metadata": {},
   "outputs": [],
   "source": [
    "# La secuencia de Fibonacci\n",
    "# La secuencia de Fibonacci consiste en los números [0, 1, 1, 2, 3, 5, 8, 13, 21, 34, 55, 89, 144, 233, 377, 610, 987]\n",
    "# Genera los 100 primero números de la secuencia de Fibonacci partiendo de la lista [0, 1]"
   ]
  },
  {
   "cell_type": "code",
   "execution_count": null,
   "metadata": {},
   "outputs": [],
   "source": [
    "# La criba de Erastótenes... SÍ, el mismo que midió la tierra con la sombra de un palo\n",
    "# A Erastótenes también se le ocurrió un algoritmo para identificar números primos:\n",
    "# Partiendo de que el 2 es primo, analiza el número 3 y como no se puede dividir con resto cero \n",
    "# con ningún número primo menor que el propio 3, significa que 3 es primo.\n",
    "# Para el 4 tenemos dos números primos [2, 3], como es divisible por uno de ellos (2), no es primo\n",
    "# Para el 5 tenemos dos números primos [2, 3], como no es divisible por ninguno de ellos, es primo\n",
    "# Para el 6 tenemos tres números primos [2, 3, 5], como  es divisible por alguno de ellos, no es primo\n",
    "# [ ... ] \n",
    "# Implementa la criba de Erastótenes para los número del 1 al 1000"
   ]
  },
  {
   "cell_type": "code",
   "execution_count": 1,
   "metadata": {},
   "outputs": [
    {
     "name": "stdout",
     "output_type": "stream",
     "text": [
      "10\n"
     ]
    }
   ],
   "source": [
    "# Implementa una forma NO LINEAL de buscar si el 74 está en la lista\n",
    "# NO LINEAL: no voy mirando uno a uno hasta que lo encuentre\n",
    "# Empezar por el final, también es lineal\n",
    "diez_numeros = [2, 11, 23, 35, 41, 59, 62, 74, 88, 99]\n"
   ]
  },
  {
   "cell_type": "code",
   "execution_count": null,
   "metadata": {},
   "outputs": [],
   "source": [
    "# El Orden del Imperio de Constantinopla\n",
    "# Durante los aproximadamente 1000 años que duró el Imperio de Constantinopla fueron emperadores/as muchas familias\n",
    "# Muchas veces compartían el mismo nombre y se distinguían por el número\n",
    "# Sabiendo que:\n",
    "# 1. La dinastía Ducas gobernó primero, luego l@s Conmeno y finalmente l@s Paleólogo\n",
    "# 2. L@s primer@s hij@s de cada dinastía siempre se llamaban Constantino, luego Irene, luego Ana y finalmente Miguel\n",
    "# 3. Si se repite un nombre se distingue por el número romano. Como mucho 3: I, II y III\n",
    "# Implementa un algoritmo que me diga quién gobernó primero.\n",
    "# Ejemplo:\n",
    "# Ana Conmeno II vs Constantino Peleólogo I. Por 1. Conmeno viene siempre antes luego Ana Conmeno II gobernó antes\n",
    "# Irene Ducas III vs Miguel Ducas I. Misma dinastía pero Por 2. Irene viene antes luego Irene Ducas III  gobernó antes\n",
    "# Ana Paleólogo II vs Ana Paleólogo I.  Misma dinastía y nombre. Por 3. Obvio, Ana Paleólogo\n",
    "# Busca soluciones creativas "
   ]
  }
 ],
 "metadata": {
  "kernelspec": {
   "display_name": "Python 3",
   "language": "python",
   "name": "python3"
  },
  "language_info": {
   "codemirror_mode": {
    "name": "ipython",
    "version": 3
   },
   "file_extension": ".py",
   "mimetype": "text/x-python",
   "name": "python",
   "nbconvert_exporter": "python",
   "pygments_lexer": "ipython3",
   "version": "3.8.10"
  }
 },
 "nbformat": 4,
 "nbformat_minor": 2
}
